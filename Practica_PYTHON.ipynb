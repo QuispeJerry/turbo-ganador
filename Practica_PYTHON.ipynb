{
  "nbformat": 4,
  "nbformat_minor": 0,
  "metadata": {
    "colab": {
      "name": "Practica PYTHON",
      "provenance": [],
      "authorship_tag": "ABX9TyPSBR0Ag4gT9ihdDugRijIF",
      "include_colab_link": true
    },
    "kernelspec": {
      "name": "python3",
      "display_name": "Python 3"
    },
    "language_info": {
      "name": "python"
    }
  },
  "cells": [
    {
      "cell_type": "markdown",
      "metadata": {
        "id": "view-in-github",
        "colab_type": "text"
      },
      "source": [
        "<a href=\"https://colab.research.google.com/github/QuispeJerry/turbo-ganador/blob/main/Practica_PYTHON.ipynb\" target=\"_parent\"><img src=\"https://colab.research.google.com/assets/colab-badge.svg\" alt=\"Open In Colab\"/></a>"
      ]
    },
    {
      "cell_type": "code",
      "execution_count": null,
      "metadata": {
        "colab": {
          "base_uri": "https://localhost:8080/"
        },
        "id": "TVM0Gw_fTFMh",
        "outputId": "2633c765-71a3-4e47-b054-71f87c4510e2"
      },
      "outputs": [
        {
          "output_type": "stream",
          "name": "stdout",
          "text": [
            "1\n",
            "2\n",
            "3\n",
            "4\n",
            "Hay 4 RAC en todo el text\n"
          ]
        }
      ],
      "source": [
        "def busqueda(cadena):\n",
        "  numero=0\n",
        "  tamanio=len(cadena)\n",
        "  for i in range(tamanio,0,-1):#numero de veces, desde donde, hasta donde\n",
        "   if i<tamanio-1:\n",
        "       if ((cadena[i] == 'r') and (cadena[i + 1] == 'a') and (cadena[i + 2] == 'c')):\n",
        "           numero+=1\n",
        "           print(numero)\n",
        "  print(f'Hay {numero} RAC en todo el text')\n",
        "\n",
        "\n",
        "_cadena='abracadabracalmazooracrac'\n",
        "busqueda(_cadena)\n"
      ]
    },
    {
      "cell_type": "markdown",
      "source": [
        "Escribir un programa que pregunte al usuario por el número de horas trabajadas y el coste por hora. Después debe mostrar por pantalla la paga que le corresponde."
      ],
      "metadata": {
        "id": "b78t2UG8XJre"
      }
    },
    {
      "cell_type": "code",
      "source": [
        "numero_Horas=int(input('Escriba el numero de horas que trabaja: '))\n",
        "precio_Hora=int(input('Escriba el precio por hora que cobra: '))\n",
        "print(f'La paga correspondiente es: {numero_Horas*precio_Hora}')"
      ],
      "metadata": {
        "colab": {
          "base_uri": "https://localhost:8080/"
        },
        "id": "qkN2up7EzD5M",
        "outputId": "b6d9bc0d-22f9-4c67-fd44-004a7f97636f"
      },
      "execution_count": null,
      "outputs": [
        {
          "output_type": "stream",
          "name": "stdout",
          "text": [
            "Escriba el numero de horas que trabaja: 2\n",
            "Escriba el precio por hora que cobra: 2\n",
            "La paga correspondiente es: 4\n"
          ]
        }
      ]
    },
    {
      "cell_type": "markdown",
      "source": [
        "Escribir un programa que lea un entero N positivo, , introducido por el usuario y después muestre en pantalla la suma de todos los enteros desde 1 hasta N."
      ],
      "metadata": {
        "id": "V3SV6-zZEHa1"
      }
    },
    {
      "cell_type": "code",
      "source": [
        "n=int(input('Escriba N: '))\n",
        "print(f'La suma desde 0 hasta {n} es: {int(n*(n+1)/2)}')"
      ],
      "metadata": {
        "colab": {
          "base_uri": "https://localhost:8080/"
        },
        "id": "8k7qMqQNEPzM",
        "outputId": "8948fcab-d7b0-4003-d155-d0b1076e03de"
      },
      "execution_count": null,
      "outputs": [
        {
          "output_type": "stream",
          "name": "stdout",
          "text": [
            "Escriba N: 3\n",
            "La suma desde 0 hasta 3 es: 6\n"
          ]
        }
      ]
    },
    {
      "cell_type": "markdown",
      "source": [
        "Escribir un programa que pida al usuario su peso (en kg) y estatura (en metros), calcule el índice de masa corporal y lo almacene en una variable, y muestre por pantalla la frase Tu índice de masa corporal es <imc> donde <imc> es el índice de masa corporal calculado redondeado con dos decimales."
      ],
      "metadata": {
        "id": "xh1VJ8OME3ix"
      }
    },
    {
      "cell_type": "code",
      "source": [
        "peso=int(input('Introduzca su peso: '))\n",
        "talla=float(input('Introduzca su talla: '))\n",
        "print(f'Su IMC es: {peso/(pow(talla,2))}')\n",
        "print(f'Su IMC es: {peso/(talla*talla)}')\n",
        "print(f'Su IMC es: {pow(2,3)}')"
      ],
      "metadata": {
        "colab": {
          "base_uri": "https://localhost:8080/"
        },
        "id": "QCiql_ZvG5fQ",
        "outputId": "c0efdcb1-80ee-4aa9-8270-772f68a46a6e"
      },
      "execution_count": null,
      "outputs": [
        {
          "output_type": "stream",
          "name": "stdout",
          "text": [
            "Introduzca su peso: 89\n",
            "Introduzca su talla: 1.74\n",
            "Su IMC es: 29.396221429515126\n",
            "Su IMC es: 29.396221429515126\n",
            "Su IMC es: 8\n"
          ]
        }
      ]
    },
    {
      "cell_type": "markdown",
      "source": [
        "# **Conversor de binario a numero**"
      ],
      "metadata": {
        "id": "bJVsugyXJTh4"
      }
    },
    {
      "cell_type": "code",
      "source": [
        "\n",
        "def conversor_B(numero_Binario):\n",
        "  potencia=len(numero_Binario)-1\n",
        "  numero_Entero=0\n",
        "  for numero in numero_Binario:\n",
        "    numero_Entero+=(int(numero))*(pow(2,potencia))\n",
        "    potencia-=1\n",
        "  #print(f'El numero en binario es: {numero_Entero}')\n",
        "  return (numero_Entero)\n"
      ],
      "metadata": {
        "id": "_P-vQ5YEJPVX"
      },
      "execution_count": null,
      "outputs": []
    },
    {
      "cell_type": "code",
      "source": [
        "numero_Binario=str(input('Ingrese el numero en binario: '))\n",
        "print('El numero convertido es: ',conversor_B(numero_Binario))"
      ],
      "metadata": {
        "colab": {
          "base_uri": "https://localhost:8080/"
        },
        "id": "MPqECr2MWeca",
        "outputId": "f97a1179-2b10-45ca-9b72-a8c0cb3f0606"
      },
      "execution_count": null,
      "outputs": [
        {
          "output_type": "stream",
          "name": "stdout",
          "text": [
            "Ingrese el numero en binario: 10010\n",
            "El numero convertido es:  18\n"
          ]
        }
      ]
    },
    {
      "cell_type": "markdown",
      "source": [
        "# **Conversor de numero a binario**"
      ],
      "metadata": {
        "id": "uy-iu4xoZQQf"
      }
    },
    {
      "cell_type": "code",
      "source": [
        "#la entrada será un int\n",
        "def conversor_D(numero_Entero):\n",
        "  numero_Convertido=''\n",
        "  while (True):\n",
        "    residuo=(numero_Entero%2)\n",
        "    if residuo==1:\n",
        "      numero_Entero-=1\n",
        "    numero_Entero=int(numero_Entero/2)\n",
        "    numero_Convertido+=(str(residuo))\n",
        "    if(numero_Entero<1):\n",
        "      #print(numero_Convertido)\n",
        "      return numero_Convertido"
      ],
      "metadata": {
        "id": "Fd3n6gUFZVIK"
      },
      "execution_count": null,
      "outputs": []
    },
    {
      "cell_type": "code",
      "source": [
        "numero=int(input('Escriba el numero a convertir:'))\n",
        "numero=str(conversor_D(numero))\n",
        "print('El numero convertido es: ',numero[::-1])"
      ],
      "metadata": {
        "colab": {
          "base_uri": "https://localhost:8080/"
        },
        "id": "QIgrUmSzYMAh",
        "outputId": "b5bec895-b570-4c34-9b7e-d11d5f22dd75"
      },
      "execution_count": null,
      "outputs": [
        {
          "output_type": "stream",
          "name": "stdout",
          "text": [
            "Escriba el numero a convertir:18\n",
            "El numero convertido es:  10010\n"
          ]
        }
      ]
    },
    {
      "cell_type": "markdown",
      "source": [
        "# **Conversor de un NUMERO BINARIO CON DECIMAL a NUMERO DECIMAL CON DECIMALES**"
      ],
      "metadata": {
        "id": "8jBYgXGIy5eJ"
      }
    },
    {
      "cell_type": "code",
      "source": [
        "def conversor_B(numero_Binario):\n",
        "  potencia=len(numero_Binario)-1\n",
        "  numero_Entero=0\n",
        "  for numero in numero_Binario:\n",
        "    numero_Entero+=(int(numero))*(pow(2,potencia))\n",
        "    potencia-=1\n",
        "  #print(f'El numero en binario es: {numero_Entero}')\n",
        "  return (numero_Entero)"
      ],
      "metadata": {
        "id": "e_7KbigzoJFM"
      },
      "execution_count": null,
      "outputs": []
    },
    {
      "cell_type": "code",
      "source": [
        "def separador(numero):\n",
        "  parte_Decimal=''\n",
        "  parte_Entera=''\n",
        "  marcador=True\n",
        "  for i in numero:\n",
        "    if(i=='.'):\n",
        "      marcador=False\n",
        "      continue\n",
        "    if(marcador==True):\n",
        "      parte_Entera+=i\n",
        "    else:\n",
        "      parte_Decimal+=i\n",
        "  return parte_Decimal,parte_Entera"
      ],
      "metadata": {
        "id": "fkr86SR6hNLo"
      },
      "execution_count": null,
      "outputs": []
    },
    {
      "cell_type": "code",
      "source": [
        "def _conversor_B_D(numero_Binario_Decimal):#solo la parte decimal sin el punto->str\n",
        "  numero_decimal=0\n",
        "  potencia=1\n",
        "  for numero in numero_Binario_Decimal:\n",
        "    numero_decimal+=float((float(numero))/(pow(2,potencia)))\n",
        "    potencia+=1\n",
        "  return float(numero_decimal)"
      ],
      "metadata": {
        "id": "eKB9vmAahgAJ"
      },
      "execution_count": null,
      "outputs": []
    },
    {
      "cell_type": "code",
      "source": [
        "def conversor_B_D(numero_Binario_Decimal):\n",
        "  parte_Decimal,parte_Entera=separador(numero_Binario_Decimal)\n",
        "  Decimal=float(_conversor_B_D(parte_Decimal))\n",
        "  Entera=float(conversor_B(parte_Entera))\n",
        "  print(f'El numero en notacion decimal es: {float(Entera+Decimal)}')\n",
        "\n",
        "\n",
        "numero=str(input('Ingrese el numero Binario con punto decimal: '))\n",
        "conversor_B_D(numero)\n",
        "# numero='10101'\n",
        "# #numero_Convertido=_conversor_B_D(numero)\n",
        "# print(_conversor_B_D(numero))"
      ],
      "metadata": {
        "colab": {
          "base_uri": "https://localhost:8080/"
        },
        "id": "AanRE6i5gUDF",
        "outputId": "d08944fb-14d6-4729-ee64-aa306a5be952"
      },
      "execution_count": null,
      "outputs": [
        {
          "output_type": "stream",
          "name": "stdout",
          "text": [
            "Ingrese el numero Binario con punto decimal: 10111011.011\n",
            "El numero en notacion decimal es: 187.375\n"
          ]
        }
      ]
    },
    {
      "cell_type": "markdown",
      "source": [
        "# **Conversor de un ENTERO CON DECIMAL a NUMERO BINARIO CON DECIMAL**"
      ],
      "metadata": {
        "id": "yifbrocdmkR3"
      }
    },
    {
      "cell_type": "code",
      "source": [
        "#la entrada será un int\n",
        "def conversor_D(numero_Entero):\n",
        "  numero_Convertido=''\n",
        "  while (True):\n",
        "    residuo=(numero_Entero%2)\n",
        "    if residuo==1:\n",
        "      numero_Entero-=1\n",
        "    numero_Entero=int(numero_Entero/2)\n",
        "    numero_Convertido+=(str(residuo))\n",
        "    if(numero_Entero<1):\n",
        "      return numero_Convertido"
      ],
      "metadata": {
        "id": "NhObzf1UqCZ5"
      },
      "execution_count": null,
      "outputs": []
    },
    {
      "cell_type": "code",
      "source": [
        "def separador2(numero):\n",
        "  parte_Decimal=''\n",
        "  parte_Entera=''\n",
        "  marcador=True\n",
        "  for i in numero:\n",
        "    if(i=='.'):\n",
        "      marcador=False\n",
        "      continue\n",
        "    if(marcador==True):\n",
        "      parte_Entera+=i\n",
        "    else:\n",
        "      parte_Decimal+=i\n",
        "  return parte_Decimal,parte_Entera"
      ],
      "metadata": {
        "id": "D9n8AGQFg_9H"
      },
      "execution_count": null,
      "outputs": []
    },
    {
      "cell_type": "code",
      "source": [
        "def _conversor_D_B(parte_decimal):\n",
        "  aux='0.'+parte_decimal\n",
        "  parte_decimal=float(aux)\n",
        "  aux=''\n",
        "  limite=4\n",
        "  while(True):\n",
        "    resultado=int(parte_decimal*2)\n",
        "    parte_decimal=float(parte_decimal*2)\n",
        "    if(parte_decimal==1):\n",
        "      aux+=str(resultado)\n",
        "      return aux\n",
        "    aux+=str(resultado)\n",
        "    if parte_decimal>1:\n",
        "      parte_decimal=float(parte_decimal-1)\n",
        "    if(limite==0):\n",
        "      return aux\n",
        "    limite-=1"
      ],
      "metadata": {
        "id": "ZgFduWUcfG2_"
      },
      "execution_count": null,
      "outputs": []
    },
    {
      "cell_type": "code",
      "source": [
        "numero=str(input('Intruduzca el numero con parte decimal: '))\n",
        "parte_decimal,parte_entera=separador2(numero)\n",
        "aux=str(parte_decimal)\n",
        "parte_decimal=aux\n",
        "parte_entera=(conversor_D(int(parte_entera)))\n",
        "parte_decimal=str(_conversor_D_B(parte_decimal))\n",
        "print('parte decimal: '+parte_entera[::-1]+'.'+parte_decimal)#SE IMPRIME AL REVÉS.... GIL!!!!!!"
      ],
      "metadata": {
        "colab": {
          "base_uri": "https://localhost:8080/"
        },
        "id": "3QRV6FXjii6t",
        "outputId": "2d62bd02-6942-4ff6-bca5-05a980ded25d"
      },
      "execution_count": null,
      "outputs": [
        {
          "output_type": "stream",
          "name": "stdout",
          "text": [
            "Intruduzca el numero con parte decimal: 18.375\n",
            "parte decimal: 10010.011\n"
          ]
        }
      ]
    }
  ]
}